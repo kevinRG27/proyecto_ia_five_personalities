{
  "nbformat": 4,
  "nbformat_minor": 0,
  "metadata": {
    "colab": {
      "name": "Entrega_2",
      "provenance": []
    },
    "kernelspec": {
      "name": "python3",
      "display_name": "Python 3"
    }
  },
  "cells": [
    {
      "cell_type": "markdown",
      "metadata": {
        "id": "14WGyNEJkSJa"
      },
      "source": [
        "# Cargar librerías y lectura de la BD"
      ]
    },
    {
      "cell_type": "code",
      "metadata": {
        "id": "7IT08MC804mD",
        "colab": {
          "base_uri": "https://localhost:8080/"
        },
        "outputId": "02cebb9a-2a60-4e19-98d5-869635e61971"
      },
      "source": [
        "#Cargar el Dataset desde Kaggle\n",
        "! pip install kaggle\n",
        "! mkdir ~/.kaggle\n",
        "! cp kaggle.json ~/.kaggle/\n",
        "! chmod 600 ~/.kaggle/kaggle.json\n",
        "! kaggle datasets download tunguz/big-five-personality-test\n",
        "!unzip big-five-personality-test.zip\n"
      ],
      "execution_count": 2,
      "outputs": [
        {
          "output_type": "stream",
          "name": "stdout",
          "text": [
            "Looking in indexes: https://pypi.org/simple, https://us-python.pkg.dev/colab-wheels/public/simple/\n",
            "Requirement already satisfied: kaggle in /usr/local/lib/python3.7/dist-packages (1.5.12)\n",
            "Requirement already satisfied: certifi in /usr/local/lib/python3.7/dist-packages (from kaggle) (2022.6.15)\n",
            "Requirement already satisfied: six>=1.10 in /usr/local/lib/python3.7/dist-packages (from kaggle) (1.15.0)\n",
            "Requirement already satisfied: tqdm in /usr/local/lib/python3.7/dist-packages (from kaggle) (4.64.0)\n",
            "Requirement already satisfied: python-dateutil in /usr/local/lib/python3.7/dist-packages (from kaggle) (2.8.2)\n",
            "Requirement already satisfied: requests in /usr/local/lib/python3.7/dist-packages (from kaggle) (2.23.0)\n",
            "Requirement already satisfied: urllib3 in /usr/local/lib/python3.7/dist-packages (from kaggle) (1.24.3)\n",
            "Requirement already satisfied: python-slugify in /usr/local/lib/python3.7/dist-packages (from kaggle) (6.1.2)\n",
            "Requirement already satisfied: text-unidecode>=1.3 in /usr/local/lib/python3.7/dist-packages (from python-slugify->kaggle) (1.3)\n",
            "Requirement already satisfied: idna<3,>=2.5 in /usr/local/lib/python3.7/dist-packages (from requests->kaggle) (2.10)\n",
            "Requirement already satisfied: chardet<4,>=3.0.2 in /usr/local/lib/python3.7/dist-packages (from requests->kaggle) (3.0.4)\n",
            "mkdir: cannot create directory ‘/root/.kaggle’: File exists\n",
            "Downloading big-five-personality-test.zip to /content\n",
            " 99% 157M/159M [00:01<00:00, 139MB/s]\n",
            "100% 159M/159M [00:01<00:00, 150MB/s]\n",
            "Archive:  big-five-personality-test.zip\n",
            "  inflating: IPIP-FFM-data-8Nov2018/.directory  \n",
            "  inflating: IPIP-FFM-data-8Nov2018/codebook.txt  \n",
            "  inflating: IPIP-FFM-data-8Nov2018/data-final.csv  \n"
          ]
        }
      ]
    },
    {
      "cell_type": "code",
      "metadata": {
        "id": "9vPuJ-5_jvts"
      },
      "source": [
        "#Se cargan las librerias\n",
        "import numpy as np\n",
        "import pandas as pd\n",
        "import seaborn as sns\n",
        "import matplotlib.pyplot as plt\n",
        "from sklearn.cluster import KMeans\n",
        "from sklearn.preprocessing import LabelEncoder\n",
        "from sklearn.preprocessing import StandardScaler\n",
        "from sklearn.preprocessing import MinMaxScaler\n",
        "from sklearn.impute import SimpleImputer\n",
        "from sklearn.cluster import MiniBatchKMeans\n",
        "from sklearn.model_selection import train_test_split\n",
        "from sklearn.utils import check_random_state\n",
        "from sklearn.metrics import accuracy_score\n",
        "from sklearn.metrics import confusion_matrix\n",
        "from sklearn.metrics import classification_report\n",
        "from sklearn.neural_network import MLPClassifier"
      ],
      "execution_count": 3,
      "outputs": []
    },
    {
      "cell_type": "code",
      "metadata": {
        "id": "cMiUkecEjznE"
      },
      "source": [
        "#Se carga el archivo.csv que contiene los datos, previamente añadido a la sesión como \"data-final.csv\"\n",
        "\n",
        "datos = pd.read_csv(\"/content/IPIP-FFM-data-8Nov2018/data-final.csv\", sep=\"\\t\")\n",
        "big_five_data = pd.DataFrame(datos)"
      ],
      "execution_count": 4,
      "outputs": []
    },
    {
      "cell_type": "code",
      "metadata": {
        "id": "07lS0s0bAMTL",
        "colab": {
          "base_uri": "https://localhost:8080/",
          "height": 473
        },
        "outputId": "997a6b03-2b58-4c79-eb2d-3ab1f2188b89"
      },
      "source": [
        "#Mostrando el DataFrame original\n",
        "big_five_data.head()"
      ],
      "execution_count": 5,
      "outputs": [
        {
          "output_type": "execute_result",
          "data": {
            "text/plain": [
              "   EXT1  EXT2  EXT3  EXT4  EXT5  EXT6  EXT7  EXT8  EXT9  EXT10  ...  \\\n",
              "0   4.0   1.0   5.0   2.0   5.0   1.0   5.0   2.0   4.0    1.0  ...   \n",
              "1   3.0   5.0   3.0   4.0   3.0   3.0   2.0   5.0   1.0    5.0  ...   \n",
              "2   2.0   3.0   4.0   4.0   3.0   2.0   1.0   3.0   2.0    5.0  ...   \n",
              "3   2.0   2.0   2.0   3.0   4.0   2.0   2.0   4.0   1.0    4.0  ...   \n",
              "4   3.0   3.0   3.0   3.0   5.0   3.0   3.0   5.0   3.0    4.0  ...   \n",
              "\n",
              "              dateload  screenw  screenh  introelapse  testelapse  endelapse  \\\n",
              "0  2016-03-03 02:01:01    768.0   1024.0          9.0       234.0          6   \n",
              "1  2016-03-03 02:01:20   1360.0    768.0         12.0       179.0         11   \n",
              "2  2016-03-03 02:01:56   1366.0    768.0          3.0       186.0          7   \n",
              "3  2016-03-03 02:02:02   1920.0   1200.0        186.0       219.0          7   \n",
              "4  2016-03-03 02:02:57   1366.0    768.0          8.0       315.0         17   \n",
              "\n",
              "   IPC  country  lat_appx_lots_of_err  long_appx_lots_of_err  \n",
              "0    1       GB               51.5448                 0.1991  \n",
              "1    1       MY                3.1698                101.706  \n",
              "2    1       GB               54.9119                -1.3833  \n",
              "3    1       GB                 51.75                  -1.25  \n",
              "4    2       KE                   1.0                   38.0  \n",
              "\n",
              "[5 rows x 110 columns]"
            ],
            "text/html": [
              "\n",
              "  <div id=\"df-1498bc67-4739-456c-9bc8-b09b3f5a46f4\">\n",
              "    <div class=\"colab-df-container\">\n",
              "      <div>\n",
              "<style scoped>\n",
              "    .dataframe tbody tr th:only-of-type {\n",
              "        vertical-align: middle;\n",
              "    }\n",
              "\n",
              "    .dataframe tbody tr th {\n",
              "        vertical-align: top;\n",
              "    }\n",
              "\n",
              "    .dataframe thead th {\n",
              "        text-align: right;\n",
              "    }\n",
              "</style>\n",
              "<table border=\"1\" class=\"dataframe\">\n",
              "  <thead>\n",
              "    <tr style=\"text-align: right;\">\n",
              "      <th></th>\n",
              "      <th>EXT1</th>\n",
              "      <th>EXT2</th>\n",
              "      <th>EXT3</th>\n",
              "      <th>EXT4</th>\n",
              "      <th>EXT5</th>\n",
              "      <th>EXT6</th>\n",
              "      <th>EXT7</th>\n",
              "      <th>EXT8</th>\n",
              "      <th>EXT9</th>\n",
              "      <th>EXT10</th>\n",
              "      <th>...</th>\n",
              "      <th>dateload</th>\n",
              "      <th>screenw</th>\n",
              "      <th>screenh</th>\n",
              "      <th>introelapse</th>\n",
              "      <th>testelapse</th>\n",
              "      <th>endelapse</th>\n",
              "      <th>IPC</th>\n",
              "      <th>country</th>\n",
              "      <th>lat_appx_lots_of_err</th>\n",
              "      <th>long_appx_lots_of_err</th>\n",
              "    </tr>\n",
              "  </thead>\n",
              "  <tbody>\n",
              "    <tr>\n",
              "      <th>0</th>\n",
              "      <td>4.0</td>\n",
              "      <td>1.0</td>\n",
              "      <td>5.0</td>\n",
              "      <td>2.0</td>\n",
              "      <td>5.0</td>\n",
              "      <td>1.0</td>\n",
              "      <td>5.0</td>\n",
              "      <td>2.0</td>\n",
              "      <td>4.0</td>\n",
              "      <td>1.0</td>\n",
              "      <td>...</td>\n",
              "      <td>2016-03-03 02:01:01</td>\n",
              "      <td>768.0</td>\n",
              "      <td>1024.0</td>\n",
              "      <td>9.0</td>\n",
              "      <td>234.0</td>\n",
              "      <td>6</td>\n",
              "      <td>1</td>\n",
              "      <td>GB</td>\n",
              "      <td>51.5448</td>\n",
              "      <td>0.1991</td>\n",
              "    </tr>\n",
              "    <tr>\n",
              "      <th>1</th>\n",
              "      <td>3.0</td>\n",
              "      <td>5.0</td>\n",
              "      <td>3.0</td>\n",
              "      <td>4.0</td>\n",
              "      <td>3.0</td>\n",
              "      <td>3.0</td>\n",
              "      <td>2.0</td>\n",
              "      <td>5.0</td>\n",
              "      <td>1.0</td>\n",
              "      <td>5.0</td>\n",
              "      <td>...</td>\n",
              "      <td>2016-03-03 02:01:20</td>\n",
              "      <td>1360.0</td>\n",
              "      <td>768.0</td>\n",
              "      <td>12.0</td>\n",
              "      <td>179.0</td>\n",
              "      <td>11</td>\n",
              "      <td>1</td>\n",
              "      <td>MY</td>\n",
              "      <td>3.1698</td>\n",
              "      <td>101.706</td>\n",
              "    </tr>\n",
              "    <tr>\n",
              "      <th>2</th>\n",
              "      <td>2.0</td>\n",
              "      <td>3.0</td>\n",
              "      <td>4.0</td>\n",
              "      <td>4.0</td>\n",
              "      <td>3.0</td>\n",
              "      <td>2.0</td>\n",
              "      <td>1.0</td>\n",
              "      <td>3.0</td>\n",
              "      <td>2.0</td>\n",
              "      <td>5.0</td>\n",
              "      <td>...</td>\n",
              "      <td>2016-03-03 02:01:56</td>\n",
              "      <td>1366.0</td>\n",
              "      <td>768.0</td>\n",
              "      <td>3.0</td>\n",
              "      <td>186.0</td>\n",
              "      <td>7</td>\n",
              "      <td>1</td>\n",
              "      <td>GB</td>\n",
              "      <td>54.9119</td>\n",
              "      <td>-1.3833</td>\n",
              "    </tr>\n",
              "    <tr>\n",
              "      <th>3</th>\n",
              "      <td>2.0</td>\n",
              "      <td>2.0</td>\n",
              "      <td>2.0</td>\n",
              "      <td>3.0</td>\n",
              "      <td>4.0</td>\n",
              "      <td>2.0</td>\n",
              "      <td>2.0</td>\n",
              "      <td>4.0</td>\n",
              "      <td>1.0</td>\n",
              "      <td>4.0</td>\n",
              "      <td>...</td>\n",
              "      <td>2016-03-03 02:02:02</td>\n",
              "      <td>1920.0</td>\n",
              "      <td>1200.0</td>\n",
              "      <td>186.0</td>\n",
              "      <td>219.0</td>\n",
              "      <td>7</td>\n",
              "      <td>1</td>\n",
              "      <td>GB</td>\n",
              "      <td>51.75</td>\n",
              "      <td>-1.25</td>\n",
              "    </tr>\n",
              "    <tr>\n",
              "      <th>4</th>\n",
              "      <td>3.0</td>\n",
              "      <td>3.0</td>\n",
              "      <td>3.0</td>\n",
              "      <td>3.0</td>\n",
              "      <td>5.0</td>\n",
              "      <td>3.0</td>\n",
              "      <td>3.0</td>\n",
              "      <td>5.0</td>\n",
              "      <td>3.0</td>\n",
              "      <td>4.0</td>\n",
              "      <td>...</td>\n",
              "      <td>2016-03-03 02:02:57</td>\n",
              "      <td>1366.0</td>\n",
              "      <td>768.0</td>\n",
              "      <td>8.0</td>\n",
              "      <td>315.0</td>\n",
              "      <td>17</td>\n",
              "      <td>2</td>\n",
              "      <td>KE</td>\n",
              "      <td>1.0</td>\n",
              "      <td>38.0</td>\n",
              "    </tr>\n",
              "  </tbody>\n",
              "</table>\n",
              "<p>5 rows × 110 columns</p>\n",
              "</div>\n",
              "      <button class=\"colab-df-convert\" onclick=\"convertToInteractive('df-1498bc67-4739-456c-9bc8-b09b3f5a46f4')\"\n",
              "              title=\"Convert this dataframe to an interactive table.\"\n",
              "              style=\"display:none;\">\n",
              "        \n",
              "  <svg xmlns=\"http://www.w3.org/2000/svg\" height=\"24px\"viewBox=\"0 0 24 24\"\n",
              "       width=\"24px\">\n",
              "    <path d=\"M0 0h24v24H0V0z\" fill=\"none\"/>\n",
              "    <path d=\"M18.56 5.44l.94 2.06.94-2.06 2.06-.94-2.06-.94-.94-2.06-.94 2.06-2.06.94zm-11 1L8.5 8.5l.94-2.06 2.06-.94-2.06-.94L8.5 2.5l-.94 2.06-2.06.94zm10 10l.94 2.06.94-2.06 2.06-.94-2.06-.94-.94-2.06-.94 2.06-2.06.94z\"/><path d=\"M17.41 7.96l-1.37-1.37c-.4-.4-.92-.59-1.43-.59-.52 0-1.04.2-1.43.59L10.3 9.45l-7.72 7.72c-.78.78-.78 2.05 0 2.83L4 21.41c.39.39.9.59 1.41.59.51 0 1.02-.2 1.41-.59l7.78-7.78 2.81-2.81c.8-.78.8-2.07 0-2.86zM5.41 20L4 18.59l7.72-7.72 1.47 1.35L5.41 20z\"/>\n",
              "  </svg>\n",
              "      </button>\n",
              "      \n",
              "  <style>\n",
              "    .colab-df-container {\n",
              "      display:flex;\n",
              "      flex-wrap:wrap;\n",
              "      gap: 12px;\n",
              "    }\n",
              "\n",
              "    .colab-df-convert {\n",
              "      background-color: #E8F0FE;\n",
              "      border: none;\n",
              "      border-radius: 50%;\n",
              "      cursor: pointer;\n",
              "      display: none;\n",
              "      fill: #1967D2;\n",
              "      height: 32px;\n",
              "      padding: 0 0 0 0;\n",
              "      width: 32px;\n",
              "    }\n",
              "\n",
              "    .colab-df-convert:hover {\n",
              "      background-color: #E2EBFA;\n",
              "      box-shadow: 0px 1px 2px rgba(60, 64, 67, 0.3), 0px 1px 3px 1px rgba(60, 64, 67, 0.15);\n",
              "      fill: #174EA6;\n",
              "    }\n",
              "\n",
              "    [theme=dark] .colab-df-convert {\n",
              "      background-color: #3B4455;\n",
              "      fill: #D2E3FC;\n",
              "    }\n",
              "\n",
              "    [theme=dark] .colab-df-convert:hover {\n",
              "      background-color: #434B5C;\n",
              "      box-shadow: 0px 1px 3px 1px rgba(0, 0, 0, 0.15);\n",
              "      filter: drop-shadow(0px 1px 2px rgba(0, 0, 0, 0.3));\n",
              "      fill: #FFFFFF;\n",
              "    }\n",
              "  </style>\n",
              "\n",
              "      <script>\n",
              "        const buttonEl =\n",
              "          document.querySelector('#df-1498bc67-4739-456c-9bc8-b09b3f5a46f4 button.colab-df-convert');\n",
              "        buttonEl.style.display =\n",
              "          google.colab.kernel.accessAllowed ? 'block' : 'none';\n",
              "\n",
              "        async function convertToInteractive(key) {\n",
              "          const element = document.querySelector('#df-1498bc67-4739-456c-9bc8-b09b3f5a46f4');\n",
              "          const dataTable =\n",
              "            await google.colab.kernel.invokeFunction('convertToInteractive',\n",
              "                                                     [key], {});\n",
              "          if (!dataTable) return;\n",
              "\n",
              "          const docLinkHtml = 'Like what you see? Visit the ' +\n",
              "            '<a target=\"_blank\" href=https://colab.research.google.com/notebooks/data_table.ipynb>data table notebook</a>'\n",
              "            + ' to learn more about interactive tables.';\n",
              "          element.innerHTML = '';\n",
              "          dataTable['output_type'] = 'display_data';\n",
              "          await google.colab.output.renderOutput(dataTable, element);\n",
              "          const docLink = document.createElement('div');\n",
              "          docLink.innerHTML = docLinkHtml;\n",
              "          element.appendChild(docLink);\n",
              "        }\n",
              "      </script>\n",
              "    </div>\n",
              "  </div>\n",
              "  "
            ]
          },
          "metadata": {},
          "execution_count": 5
        }
      ]
    },
    {
      "cell_type": "markdown",
      "metadata": {
        "id": "dwqhdlsCkfLn"
      },
      "source": [
        "# Limpieza de datos"
      ]
    },
    {
      "cell_type": "markdown",
      "metadata": {
        "id": "3nLvttp9OyhJ"
      },
      "source": [
        "**`SE INICIA EL PROCESO DE LIMPIEZA DE DATOS`**"
      ]
    },
    {
      "cell_type": "code",
      "metadata": {
        "id": "3BDIWYhf9NQe"
      },
      "source": [
        "#Eliminación de las columnas correspondientes a 'dateload','lat_appx_lots_of_err','long_appx_lots_of_err'\n",
        "big_five_data = big_five_data.drop(['dateload'], axis=1)\n",
        "big_five_data = big_five_data.drop(['lat_appx_lots_of_err'], axis=1)\n",
        "big_five_data = big_five_data.drop(['long_appx_lots_of_err'], axis=1)"
      ],
      "execution_count": 6,
      "outputs": []
    },
    {
      "cell_type": "code",
      "metadata": {
        "id": "D7Lam4VdKomw",
        "colab": {
          "base_uri": "https://localhost:8080/"
        },
        "outputId": "67b7bcf4-41d1-4c77-d96c-8a9469b448d8"
      },
      "source": [
        "# Eliminación de outliers\n",
        "start_rows = len(big_five_data)\n",
        "big_five_data = big_five_data.replace(0, np.nan).dropna(axis=0).reset_index(drop=True)\n",
        "remove_rows = start_rows - len(big_five_data)\n",
        "\n",
        "print(f'Eliminamos {remove_rows} tuplas que tenían datos incompletos.')\n",
        "print(f'Esto equivale al {round(remove_rows/start_rows * 100,2)}% de los datos totales.')"
      ],
      "execution_count": 7,
      "outputs": [
        {
          "output_type": "stream",
          "name": "stdout",
          "text": [
            "Eliminamos 149057 tuplas que tenían datos incompletos.\n",
            "Esto equivale al 14.68% de los datos totales.\n"
          ]
        }
      ]
    },
    {
      "cell_type": "markdown",
      "metadata": {
        "id": "Mv6Z0C9bktvL"
      },
      "source": [
        "# Rellenado de datos faltantes y categorización"
      ]
    },
    {
      "cell_type": "code",
      "metadata": {
        "id": "KlBJb4l52K8o"
      },
      "source": [
        "#---> Reemplazamos los valores de 'NONE' por 'NaN\n",
        "big_five_data['screenw'] = big_five_data['screenw'].replace('NONE',np.nan)\n",
        "big_five_data['screenh'] = big_five_data['screenh'].replace('NONE',np.nan)\n",
        "big_five_data['introelapse'] = big_five_data['introelapse'].replace('NONE',np.nan)\n",
        "big_five_data['testelapse'] = big_five_data['testelapse'].replace('NONE',np.nan)\n",
        "big_five_data['endelapse'] = big_five_data['endelapse'].replace('NONE',np.nan)\n",
        "big_five_data['IPC'] = big_five_data['IPC'].replace('NONE',np.nan)\n",
        "big_five_data['country'] = big_five_data['country'].replace('NONE','NaN')"
      ],
      "execution_count": 8,
      "outputs": []
    },
    {
      "cell_type": "code",
      "metadata": {
        "id": "OD0NkQ75MnSi"
      },
      "source": [
        "#Obtenemos los valores del DataFrame para poder procesarlos con las funciones de rellenado\n",
        "X_1 = big_five_data.iloc[:,:].values"
      ],
      "execution_count": 9,
      "outputs": []
    },
    {
      "cell_type": "code",
      "metadata": {
        "id": "Aohy_5weIswb"
      },
      "source": [
        "#Categorizamos los datos de la columna 'country' y los asignamos a 'Y'\n",
        "labelencoder_X = LabelEncoder()\n",
        "X_1[:,106] = labelencoder_X.fit_transform(X_1[:,106])\n",
        "Y_1 = pd.DataFrame(X_1)"
      ],
      "execution_count": 10,
      "outputs": []
    },
    {
      "cell_type": "code",
      "metadata": {
        "id": "BfsRZ8buFpQC"
      },
      "source": [
        "#Rellenado de datos ---> Utilizamos el método de rellenado basado en la mediana\n",
        "\n",
        "imp1 = SimpleImputer (missing_values = np.nan, strategy= 'median')  #Basados en el calculo de la mediana se rellenan los NaN\n",
        "imp1.fit(Y_1)\n",
        "Datos_Rellenados = imp1.transform(Y_1)"
      ],
      "execution_count": 11,
      "outputs": []
    },
    {
      "cell_type": "code",
      "metadata": {
        "id": "IfNfSqwrMBgr",
        "colab": {
          "base_uri": "https://localhost:8080/"
        },
        "outputId": "5cd3be24-cfce-4674-bcab-048b791da857"
      },
      "source": [
        "#Mostramos que datos fueron insertados\n",
        "Datos_Rellenados"
      ],
      "execution_count": 12,
      "outputs": [
        {
          "output_type": "execute_result",
          "data": {
            "text/plain": [
              "array([[  4.,   1.,   5., ...,   6.,   1.,  69.],\n",
              "       [  3.,   5.,   3., ...,  11.,   1., 144.],\n",
              "       [  2.,   3.,   4., ...,   7.,   1.,  69.],\n",
              "       ...,\n",
              "       [  4.,   2.,   4., ...,  12.,   6., 208.],\n",
              "       [  2.,   4.,   3., ...,   8.,   1., 208.],\n",
              "       [  4.,   2.,   4., ...,   9.,   1., 208.]])"
            ]
          },
          "metadata": {},
          "execution_count": 12
        }
      ]
    },
    {
      "cell_type": "code",
      "metadata": {
        "id": "OWcz_apwSB2f",
        "colab": {
          "base_uri": "https://localhost:8080/"
        },
        "outputId": "6ede7d2b-5685-44a5-9e63-93962cc5c710"
      },
      "source": [
        "#tamaño del DataFrame procesado\n",
        "Y_1.shape"
      ],
      "execution_count": 13,
      "outputs": [
        {
          "output_type": "execute_result",
          "data": {
            "text/plain": [
              "(866284, 107)"
            ]
          },
          "metadata": {},
          "execution_count": 13
        }
      ]
    },
    {
      "cell_type": "markdown",
      "metadata": {
        "id": "21TdYo7ad_sg"
      },
      "source": [
        "# Graphics ( Sin terminar )\n"
      ]
    },
    {
      "cell_type": "code",
      "metadata": {
        "id": "ypopQtkWMNtF",
        "colab": {
          "base_uri": "https://localhost:8080/",
          "height": 706
        },
        "outputId": "0877e2ba-a787-41f8-9071-95a58cc927c5"
      },
      "source": [
        "#potencias = [8, 16, 32, 64, 128,256]\n",
        "mantener_valor_aleatorio = check_random_state(1000)\n",
        "\n",
        "fig1, axes1 = plt.subplots(3, 3, figsize=(8, 8))\n",
        "\n",
        "xpts = Datos_Rellenados[:,0]\n",
        "ypts = Datos_Rellenados[:,1]\n",
        "n_bacht = 32\n",
        "colors = ['b', 'orange', 'g', 'indigo', 'c']\n",
        "\n",
        "for ncenters, ax in enumerate(axes1.reshape(-1), 8):\n",
        "      n_bacht = n_bacht*2;\n",
        "      Modelo_Kmeans = MiniBatchKMeans(n_clusters=5,random_state=mantener_valor_aleatorio,batch_size=n_bacht, max_iter=1000)\n",
        "      Modelo_Kmeans.fit_predict(Y_1) \n",
        "      Etiquetas = Modelo_Kmeans.labels_\n",
        "      centros = Modelo_Kmeans.cluster_centers_ \n",
        "        \n",
        "      for j in range(ncenters):\n",
        "         ax.plot(xpts[Etiquetas == j],\n",
        "                ypts[Etiquetas == j], '.', color=colors[j])\n",
        "\n",
        "      for pt in centros:\n",
        "          ax.plot(pt[0], pt[1], 'rs')\n",
        "    \n",
        "      ax.set_title('N Bacht = {0}'.format(n_bacht))\n",
        "      ax.axis('off') \n",
        "    \n",
        "\n",
        "fig1.tight_layout()\n",
        "plt.show()"
      ],
      "execution_count": null,
      "outputs": [
        {
          "output_type": "error",
          "ename": "IndexError",
          "evalue": "ignored",
          "traceback": [
            "\u001b[0;31m---------------------------------------------------------------------------\u001b[0m",
            "\u001b[0;31mIndexError\u001b[0m                                Traceback (most recent call last)",
            "\u001b[0;32m<ipython-input-15-26dd2b8e5f98>\u001b[0m in \u001b[0;36m<module>\u001b[0;34m\u001b[0m\n\u001b[1;32m     18\u001b[0m       \u001b[0;32mfor\u001b[0m \u001b[0mj\u001b[0m \u001b[0;32min\u001b[0m \u001b[0mrange\u001b[0m\u001b[0;34m(\u001b[0m\u001b[0mncenters\u001b[0m\u001b[0;34m)\u001b[0m\u001b[0;34m:\u001b[0m\u001b[0;34m\u001b[0m\u001b[0;34m\u001b[0m\u001b[0m\n\u001b[1;32m     19\u001b[0m          ax.plot(xpts[Etiquetas == j],\n\u001b[0;32m---> 20\u001b[0;31m                 ypts[Etiquetas == j], '.', color=colors[j])\n\u001b[0m\u001b[1;32m     21\u001b[0m \u001b[0;34m\u001b[0m\u001b[0m\n\u001b[1;32m     22\u001b[0m       \u001b[0;32mfor\u001b[0m \u001b[0mpt\u001b[0m \u001b[0;32min\u001b[0m \u001b[0mcentros\u001b[0m\u001b[0;34m:\u001b[0m\u001b[0;34m\u001b[0m\u001b[0;34m\u001b[0m\u001b[0m\n",
            "\u001b[0;31mIndexError\u001b[0m: list index out of range"
          ]
        },
        {
          "output_type": "display_data",
          "data": {
            "text/plain": [
              "<Figure size 576x576 with 9 Axes>"
            ],
            "image/png": "[encoded data removed]"
          },
          "metadata": {
            "needs_background": "light"
          }
        }
      ]
    },
    {
      "cell_type": "markdown",
      "metadata": {
        "id": "4hwgVAHAlBUR"
      },
      "source": [
        "# Clustering usando MiniBatch.Kmeans"
      ]
    },
    {
      "cell_type": "code",
      "metadata": {
        "id": "M0v8Cri4eSEw"
      },
      "source": [
        "#Obtenemos los valos del DF y creamos una copía para trabajar con los 2 modelos posteriores\n",
        "X_1 = Y_1.iloc[:,:].values\n",
        "Y_2 = Y_1"
      ],
      "execution_count": 14,
      "outputs": []
    },
    {
      "cell_type": "code",
      "metadata": {
        "id": "oO8rJ-1J8UqV",
        "colab": {
          "base_uri": "https://localhost:8080/",
          "height": 424
        },
        "outputId": "d026f8e1-8a32-4616-d30e-3482defba1b8"
      },
      "source": [
        "Y_2"
      ],
      "execution_count": 15,
      "outputs": [
        {
          "output_type": "execute_result",
          "data": {
            "text/plain": [
              "        0    1    2    3    4    5    6    7    8    9    ...     97   \\\n",
              "0       4.0  1.0  5.0  2.0  5.0  1.0  5.0  2.0  4.0  1.0  ...  3116.0   \n",
              "1       3.0  5.0  3.0  4.0  3.0  3.0  2.0  5.0  1.0  5.0  ...  3374.0   \n",
              "2       2.0  3.0  4.0  4.0  3.0  2.0  1.0  3.0  2.0  5.0  ...  6295.0   \n",
              "3       2.0  2.0  2.0  3.0  4.0  2.0  2.0  4.0  1.0  4.0  ...  4192.0   \n",
              "4       3.0  3.0  3.0  3.0  5.0  3.0  3.0  5.0  3.0  4.0  ...  5320.0   \n",
              "...     ...  ...  ...  ...  ...  ...  ...  ...  ...  ...  ...     ...   \n",
              "866279  4.0  2.0  4.0  3.0  4.0  3.0  3.0  3.0  3.0  3.0  ...  2025.0   \n",
              "866280  4.0  3.0  4.0  3.0  3.0  3.0  4.0  4.0  3.0  3.0  ...  1144.0   \n",
              "866281  4.0  2.0  4.0  3.0  5.0  1.0  4.0  2.0  4.0  4.0  ...  2648.0   \n",
              "866282  2.0  4.0  3.0  4.0  2.0  2.0  1.0  4.0  2.0  4.0  ...  2799.0   \n",
              "866283  4.0  2.0  4.0  2.0  4.0  1.0  4.0  2.0  4.0  4.0  ...  4037.0   \n",
              "\n",
              "            98      99      100     101    102    103 104 105  106  \n",
              "0        2992.0  4354.0   768.0  1024.0    9.0  234.0   6   1   69  \n",
              "1        3096.0  3019.0  1360.0   768.0   12.0  179.0  11   1  144  \n",
              "2        1585.0  2529.0  1366.0   768.0    3.0  186.0   7   1   69  \n",
              "3        3480.0  3257.0  1920.0  1200.0  186.0  219.0   7   1   69  \n",
              "4       11401.0  8642.0  1366.0   768.0    8.0  315.0  17   2  103  \n",
              "...         ...     ...     ...     ...    ...    ...  ..  ..  ...  \n",
              "866279   1873.0  1232.0  1920.0  1080.0    3.0  160.0  10   2  208  \n",
              "866280   2936.0  1615.0  1920.0  1080.0    3.0  122.0   7   1  208  \n",
              "866281   2646.0  1287.0  1920.0  1080.0    2.0  135.0  12   6  208  \n",
              "866282   7184.0  2526.0  1920.0  1080.0    6.0  212.0   8   1  208  \n",
              "866283   3422.0  1769.0  1920.0  1080.0    3.0  176.0   9   1  208  \n",
              "\n",
              "[866284 rows x 107 columns]"
            ],
            "text/html": [
              "\n",
              "  <div id=\"df-ee2dcf5d-d008-4a02-afa9-e0da2885685d\">\n",
              "    <div class=\"colab-df-container\">\n",
              "      <div>\n",
              "<style scoped>\n",
              "    .dataframe tbody tr th:only-of-type {\n",
              "        vertical-align: middle;\n",
              "    }\n",
              "\n",
              "    .dataframe tbody tr th {\n",
              "        vertical-align: top;\n",
              "    }\n",
              "\n",
              "    .dataframe thead th {\n",
              "        text-align: right;\n",
              "    }\n",
              "</style>\n",
              "<table border=\"1\" class=\"dataframe\">\n",
              "  <thead>\n",
              "    <tr style=\"text-align: right;\">\n",
              "      <th></th>\n",
              "      <th>0</th>\n",
              "      <th>1</th>\n",
              "      <th>2</th>\n",
              "      <th>3</th>\n",
              "      <th>4</th>\n",
              "      <th>5</th>\n",
              "      <th>6</th>\n",
              "      <th>7</th>\n",
              "      <th>8</th>\n",
              "      <th>9</th>\n",
              "      <th>...</th>\n",
              "      <th>97</th>\n",
              "      <th>98</th>\n",
              "      <th>99</th>\n",
              "      <th>100</th>\n",
              "      <th>101</th>\n",
              "      <th>102</th>\n",
              "      <th>103</th>\n",
              "      <th>104</th>\n",
              "      <th>105</th>\n",
              "      <th>106</th>\n",
              "    </tr>\n",
              "  </thead>\n",
              "  <tbody>\n",
              "    <tr>\n",
              "      <th>0</th>\n",
              "      <td>4.0</td>\n",
              "      <td>1.0</td>\n",
              "      <td>5.0</td>\n",
              "      <td>2.0</td>\n",
              "      <td>5.0</td>\n",
              "      <td>1.0</td>\n",
              "      <td>5.0</td>\n",
              "      <td>2.0</td>\n",
              "      <td>4.0</td>\n",
              "      <td>1.0</td>\n",
              "      <td>...</td>\n",
              "      <td>3116.0</td>\n",
              "      <td>2992.0</td>\n",
              "      <td>4354.0</td>\n",
              "      <td>768.0</td>\n",
              "      <td>1024.0</td>\n",
              "      <td>9.0</td>\n",
              "      <td>234.0</td>\n",
              "      <td>6</td>\n",
              "      <td>1</td>\n",
              "      <td>69</td>\n",
              "    </tr>\n",
              "    <tr>\n",
              "      <th>1</th>\n",
              "      <td>3.0</td>\n",
              "      <td>5.0</td>\n",
              "      <td>3.0</td>\n",
              "      <td>4.0</td>\n",
              "      <td>3.0</td>\n",
              "      <td>3.0</td>\n",
              "      <td>2.0</td>\n",
              "      <td>5.0</td>\n",
              "      <td>1.0</td>\n",
              "      <td>5.0</td>\n",
              "      <td>...</td>\n",
              "      <td>3374.0</td>\n",
              "      <td>3096.0</td>\n",
              "      <td>3019.0</td>\n",
              "      <td>1360.0</td>\n",
              "      <td>768.0</td>\n",
              "      <td>12.0</td>\n",
              "      <td>179.0</td>\n",
              "      <td>11</td>\n",
              "      <td>1</td>\n",
              "      <td>144</td>\n",
              "    </tr>\n",
              "    <tr>\n",
              "      <th>2</th>\n",
              "      <td>2.0</td>\n",
              "      <td>3.0</td>\n",
              "      <td>4.0</td>\n",
              "      <td>4.0</td>\n",
              "      <td>3.0</td>\n",
              "      <td>2.0</td>\n",
              "      <td>1.0</td>\n",
              "      <td>3.0</td>\n",
              "      <td>2.0</td>\n",
              "      <td>5.0</td>\n",
              "      <td>...</td>\n",
              "      <td>6295.0</td>\n",
              "      <td>1585.0</td>\n",
              "      <td>2529.0</td>\n",
              "      <td>1366.0</td>\n",
              "      <td>768.0</td>\n",
              "      <td>3.0</td>\n",
              "      <td>186.0</td>\n",
              "      <td>7</td>\n",
              "      <td>1</td>\n",
              "      <td>69</td>\n",
              "    </tr>\n",
              "    <tr>\n",
              "      <th>3</th>\n",
              "      <td>2.0</td>\n",
              "      <td>2.0</td>\n",
              "      <td>2.0</td>\n",
              "      <td>3.0</td>\n",
              "      <td>4.0</td>\n",
              "      <td>2.0</td>\n",
              "      <td>2.0</td>\n",
              "      <td>4.0</td>\n",
              "      <td>1.0</td>\n",
              "      <td>4.0</td>\n",
              "      <td>...</td>\n",
              "      <td>4192.0</td>\n",
              "      <td>3480.0</td>\n",
              "      <td>3257.0</td>\n",
              "      <td>1920.0</td>\n",
              "      <td>1200.0</td>\n",
              "      <td>186.0</td>\n",
              "      <td>219.0</td>\n",
              "      <td>7</td>\n",
              "      <td>1</td>\n",
              "      <td>69</td>\n",
              "    </tr>\n",
              "    <tr>\n",
              "      <th>4</th>\n",
              "      <td>3.0</td>\n",
              "      <td>3.0</td>\n",
              "      <td>3.0</td>\n",
              "      <td>3.0</td>\n",
              "      <td>5.0</td>\n",
              "      <td>3.0</td>\n",
              "      <td>3.0</td>\n",
              "      <td>5.0</td>\n",
              "      <td>3.0</td>\n",
              "      <td>4.0</td>\n",
              "      <td>...</td>\n",
              "      <td>5320.0</td>\n",
              "      <td>11401.0</td>\n",
              "      <td>8642.0</td>\n",
              "      <td>1366.0</td>\n",
              "      <td>768.0</td>\n",
              "      <td>8.0</td>\n",
              "      <td>315.0</td>\n",
              "      <td>17</td>\n",
              "      <td>2</td>\n",
              "      <td>103</td>\n",
              "    </tr>\n",
              "    <tr>\n",
              "      <th>...</th>\n",
              "      <td>...</td>\n",
              "      <td>...</td>\n",
              "      <td>...</td>\n",
              "      <td>...</td>\n",
              "      <td>...</td>\n",
              "      <td>...</td>\n",
              "      <td>...</td>\n",
              "      <td>...</td>\n",
              "      <td>...</td>\n",
              "      <td>...</td>\n",
              "      <td>...</td>\n",
              "      <td>...</td>\n",
              "      <td>...</td>\n",
              "      <td>...</td>\n",
              "      <td>...</td>\n",
              "      <td>...</td>\n",
              "      <td>...</td>\n",
              "      <td>...</td>\n",
              "      <td>...</td>\n",
              "      <td>...</td>\n",
              "      <td>...</td>\n",
              "    </tr>\n",
              "    <tr>\n",
              "      <th>866279</th>\n",
              "      <td>4.0</td>\n",
              "      <td>2.0</td>\n",
              "      <td>4.0</td>\n",
              "      <td>3.0</td>\n",
              "      <td>4.0</td>\n",
              "      <td>3.0</td>\n",
              "      <td>3.0</td>\n",
              "      <td>3.0</td>\n",
              "      <td>3.0</td>\n",
              "      <td>3.0</td>\n",
              "      <td>...</td>\n",
              "      <td>2025.0</td>\n",
              "      <td>1873.0</td>\n",
              "      <td>1232.0</td>\n",
              "      <td>1920.0</td>\n",
              "      <td>1080.0</td>\n",
              "      <td>3.0</td>\n",
              "      <td>160.0</td>\n",
              "      <td>10</td>\n",
              "      <td>2</td>\n",
              "      <td>208</td>\n",
              "    </tr>\n",
              "    <tr>\n",
              "      <th>866280</th>\n",
              "      <td>4.0</td>\n",
              "      <td>3.0</td>\n",
              "      <td>4.0</td>\n",
              "      <td>3.0</td>\n",
              "      <td>3.0</td>\n",
              "      <td>3.0</td>\n",
              "      <td>4.0</td>\n",
              "      <td>4.0</td>\n",
              "      <td>3.0</td>\n",
              "      <td>3.0</td>\n",
              "      <td>...</td>\n",
              "      <td>1144.0</td>\n",
              "      <td>2936.0</td>\n",
              "      <td>1615.0</td>\n",
              "      <td>1920.0</td>\n",
              "      <td>1080.0</td>\n",
              "      <td>3.0</td>\n",
              "      <td>122.0</td>\n",
              "      <td>7</td>\n",
              "      <td>1</td>\n",
              "      <td>208</td>\n",
              "    </tr>\n",
              "    <tr>\n",
              "      <th>866281</th>\n",
              "      <td>4.0</td>\n",
              "      <td>2.0</td>\n",
              "      <td>4.0</td>\n",
              "      <td>3.0</td>\n",
              "      <td>5.0</td>\n",
              "      <td>1.0</td>\n",
              "      <td>4.0</td>\n",
              "      <td>2.0</td>\n",
              "      <td>4.0</td>\n",
              "      <td>4.0</td>\n",
              "      <td>...</td>\n",
              "      <td>2648.0</td>\n",
              "      <td>2646.0</td>\n",
              "      <td>1287.0</td>\n",
              "      <td>1920.0</td>\n",
              "      <td>1080.0</td>\n",
              "      <td>2.0</td>\n",
              "      <td>135.0</td>\n",
              "      <td>12</td>\n",
              "      <td>6</td>\n",
              "      <td>208</td>\n",
              "    </tr>\n",
              "    <tr>\n",
              "      <th>866282</th>\n",
              "      <td>2.0</td>\n",
              "      <td>4.0</td>\n",
              "      <td>3.0</td>\n",
              "      <td>4.0</td>\n",
              "      <td>2.0</td>\n",
              "      <td>2.0</td>\n",
              "      <td>1.0</td>\n",
              "      <td>4.0</td>\n",
              "      <td>2.0</td>\n",
              "      <td>4.0</td>\n",
              "      <td>...</td>\n",
              "      <td>2799.0</td>\n",
              "      <td>7184.0</td>\n",
              "      <td>2526.0</td>\n",
              "      <td>1920.0</td>\n",
              "      <td>1080.0</td>\n",
              "      <td>6.0</td>\n",
              "      <td>212.0</td>\n",
              "      <td>8</td>\n",
              "      <td>1</td>\n",
              "      <td>208</td>\n",
              "    </tr>\n",
              "    <tr>\n",
              "      <th>866283</th>\n",
              "      <td>4.0</td>\n",
              "      <td>2.0</td>\n",
              "      <td>4.0</td>\n",
              "      <td>2.0</td>\n",
              "      <td>4.0</td>\n",
              "      <td>1.0</td>\n",
              "      <td>4.0</td>\n",
              "      <td>2.0</td>\n",
              "      <td>4.0</td>\n",
              "      <td>4.0</td>\n",
              "      <td>...</td>\n",
              "      <td>4037.0</td>\n",
              "      <td>3422.0</td>\n",
              "      <td>1769.0</td>\n",
              "      <td>1920.0</td>\n",
              "      <td>1080.0</td>\n",
              "      <td>3.0</td>\n",
              "      <td>176.0</td>\n",
              "      <td>9</td>\n",
              "      <td>1</td>\n",
              "      <td>208</td>\n",
              "    </tr>\n",
              "  </tbody>\n",
              "</table>\n",
              "<p>866284 rows × 107 columns</p>\n",
              "</div>\n",
              "      <button class=\"colab-df-convert\" onclick=\"convertToInteractive('df-ee2dcf5d-d008-4a02-afa9-e0da2885685d')\"\n",
              "              title=\"Convert this dataframe to an interactive table.\"\n",
              "              style=\"display:none;\">\n",
              "        \n",
              "  <svg xmlns=\"http://www.w3.org/2000/svg\" height=\"24px\"viewBox=\"0 0 24 24\"\n",
              "       width=\"24px\">\n",
              "    <path d=\"M0 0h24v24H0V0z\" fill=\"none\"/>\n",
              "    <path d=\"M18.56 5.44l.94 2.06.94-2.06 2.06-.94-2.06-.94-.94-2.06-.94 2.06-2.06.94zm-11 1L8.5 8.5l.94-2.06 2.06-.94-2.06-.94L8.5 2.5l-.94 2.06-2.06.94zm10 10l.94 2.06.94-2.06 2.06-.94-2.06-.94-.94-2.06-.94 2.06-2.06.94z\"/><path d=\"M17.41 7.96l-1.37-1.37c-.4-.4-.92-.59-1.43-.59-.52 0-1.04.2-1.43.59L10.3 9.45l-7.72 7.72c-.78.78-.78 2.05 0 2.83L4 21.41c.39.39.9.59 1.41.59.51 0 1.02-.2 1.41-.59l7.78-7.78 2.81-2.81c.8-.78.8-2.07 0-2.86zM5.41 20L4 18.59l7.72-7.72 1.47 1.35L5.41 20z\"/>\n",
              "  </svg>\n",
              "      </button>\n",
              "      \n",
              "  <style>\n",
              "    .colab-df-container {\n",
              "      display:flex;\n",
              "      flex-wrap:wrap;\n",
              "      gap: 12px;\n",
              "    }\n",
              "\n",
              "    .colab-df-convert {\n",
              "      background-color: #E8F0FE;\n",
              "      border: none;\n",
              "      border-radius: 50%;\n",
              "      cursor: pointer;\n",
              "      display: none;\n",
              "      fill: #1967D2;\n",
              "      height: 32px;\n",
              "      padding: 0 0 0 0;\n",
              "      width: 32px;\n",
              "    }\n",
              "\n",
              "    .colab-df-convert:hover {\n",
              "      background-color: #E2EBFA;\n",
              "      box-shadow: 0px 1px 2px rgba(60, 64, 67, 0.3), 0px 1px 3px 1px rgba(60, 64, 67, 0.15);\n",
              "      fill: #174EA6;\n",
              "    }\n",
              "\n",
              "    [theme=dark] .colab-df-convert {\n",
              "      background-color: #3B4455;\n",
              "      fill: #D2E3FC;\n",
              "    }\n",
              "\n",
              "    [theme=dark] .colab-df-convert:hover {\n",
              "      background-color: #434B5C;\n",
              "      box-shadow: 0px 1px 3px 1px rgba(0, 0, 0, 0.15);\n",
              "      filter: drop-shadow(0px 1px 2px rgba(0, 0, 0, 0.3));\n",
              "      fill: #FFFFFF;\n",
              "    }\n",
              "  </style>\n",
              "\n",
              "      <script>\n",
              "        const buttonEl =\n",
              "          document.querySelector('#df-ee2dcf5d-d008-4a02-afa9-e0da2885685d button.colab-df-convert');\n",
              "        buttonEl.style.display =\n",
              "          google.colab.kernel.accessAllowed ? 'block' : 'none';\n",
              "\n",
              "        async function convertToInteractive(key) {\n",
              "          const element = document.querySelector('#df-ee2dcf5d-d008-4a02-afa9-e0da2885685d');\n",
              "          const dataTable =\n",
              "            await google.colab.kernel.invokeFunction('convertToInteractive',\n",
              "                                                     [key], {});\n",
              "          if (!dataTable) return;\n",
              "\n",
              "          const docLinkHtml = 'Like what you see? Visit the ' +\n",
              "            '<a target=\"_blank\" href=https://colab.research.google.com/notebooks/data_table.ipynb>data table notebook</a>'\n",
              "            + ' to learn more about interactive tables.';\n",
              "          element.innerHTML = '';\n",
              "          dataTable['output_type'] = 'display_data';\n",
              "          await google.colab.output.renderOutput(dataTable, element);\n",
              "          const docLink = document.createElement('div');\n",
              "          docLink.innerHTML = docLinkHtml;\n",
              "          element.appendChild(docLink);\n",
              "        }\n",
              "      </script>\n",
              "    </div>\n",
              "  </div>\n",
              "  "
            ]
          },
          "metadata": {},
          "execution_count": 15
        }
      ]
    },
    {
      "cell_type": "markdown",
      "metadata": {
        "id": "kkkVFfcYlj2M"
      },
      "source": [
        "Modelo con batch_size = **32**"
      ]
    },
    {
      "cell_type": "code",
      "metadata": {
        "id": "AUKm_LTGVPdl",
        "colab": {
          "base_uri": "https://localhost:8080/"
        },
        "outputId": "a0216e30-981b-4410-af18-699800e20ada"
      },
      "source": [
        "Modelo_Kmeans_32 = MiniBatchKMeans(n_clusters=5,random_state=0,batch_size=32, max_iter=1000)\n",
        "Modelo_Kmeans_32 = Modelo_Kmeans_32.partial_fit(X_1[0:435000,:])\n",
        "Modelo_Kmeans_32 = Modelo_Kmeans_32.partial_fit(X_1[435000:866284,:])\n",
        "centros = Modelo_Kmeans_32.cluster_centers_ \n",
        "personalityes2 = Modelo_Kmeans_32.fit_predict(X_1)\n",
        "Y_1['Personalidad'] = personalityes2\n",
        "\n",
        "#Modelo creado, y clustering asignado a la copia Y_1\n",
        "Modelo_Kmeans_32"
      ],
      "execution_count": 16,
      "outputs": [
        {
          "output_type": "execute_result",
          "data": {
            "text/plain": [
              "MiniBatchKMeans(batch_size=32, max_iter=1000, n_clusters=5, random_state=0)"
            ]
          },
          "metadata": {},
          "execution_count": 16
        }
      ]
    },
    {
      "cell_type": "markdown",
      "metadata": {
        "id": "2hh12IwBlpSF"
      },
      "source": [
        "Modelo con batch_size = **64**"
      ]
    },
    {
      "cell_type": "code",
      "metadata": {
        "id": "DTosTehAXVHp",
        "colab": {
          "base_uri": "https://localhost:8080/"
        },
        "outputId": "28ff2443-f3bb-4dda-e127-f03fe25b1347"
      },
      "source": [
        "#Modelo con batch_size = 64\n",
        "Modelo_Kmeans_64 = MiniBatchKMeans(n_clusters=5,random_state=1,batch_size=64, max_iter=1000)\n",
        "Modelo_Kmeans_64 = Modelo_Kmeans_64.partial_fit(X_1[0:435000,:])\n",
        "Modelo_Kmeans_64 = Modelo_Kmeans_64.partial_fit(X_1[435000:866284,:])\n",
        "centros = Modelo_Kmeans_64.cluster_centers_ \n",
        "personalityes = Modelo_Kmeans_64.fit_predict(X_1)\n",
        "Y_2['Personalidad'] = personalityes\n",
        "\n",
        "#Modelo creado, y clustering asignado a la copia Y_2\n",
        "Modelo_Kmeans_64"
      ],
      "execution_count": 17,
      "outputs": [
        {
          "output_type": "execute_result",
          "data": {
            "text/plain": [
              "MiniBatchKMeans(batch_size=64, max_iter=1000, n_clusters=5, random_state=1)"
            ]
          },
          "metadata": {},
          "execution_count": 17
        }
      ]
    },
    {
      "cell_type": "markdown",
      "metadata": {
        "id": "8jL5Ff-_QVDw"
      },
      "source": [
        "# Creación de la red neuronal con Y_2\n",
        "\n",
        "---\n",
        "\n",
        "\n"
      ]
    },
    {
      "cell_type": "markdown",
      "metadata": {
        "id": "0Pp_Sg7ZonAU"
      },
      "source": [
        "**RN CON EL CLUSTERING ASIGNADO A Y_2**"
      ]
    },
    {
      "cell_type": "code",
      "metadata": {
        "id": "TA7jnMRmQUI5"
      },
      "source": [
        "#Definición de variable dependiente e independiente\n",
        "#Division de los datos\n",
        "\n",
        "Y = Y_2['Personalidad']\n",
        "X = Y_2.drop(Y_2.columns[8], axis=1)\n",
        "X = X.astype(np.float64)\n",
        "X_train,X_set,y_train,y_test=train_test_split(X,Y,test_size=0.3,random_state=42)\n",
        "\n",
        "#Creación del modelo-RN\n",
        "MLP_2 = MLPClassifier(activation = \"logistic\",alpha=1e-4,batch_size = 64, hidden_layer_sizes=(50,50,50),\n",
        "                      max_iter=1000,tol=1e-4,random_state=1,solver='sgd',verbose=10)\n",
        "                    #(batch_size = 64,hidden_layer_sizes=(50,50,50),solver='sgd', verbose=10,random_state=1, max_iter=1000,activation = \"logistic\")"
      ],
      "execution_count": 18,
      "outputs": []
    },
    {
      "cell_type": "code",
      "metadata": {
        "id": "elNun1-cSMfM",
        "colab": {
          "base_uri": "https://localhost:8080/"
        },
        "outputId": "1fb4f143-f795-4364-fe85-6c368a553031"
      },
      "source": [
        "#Se entrena la RN\n",
        "MLP_2.fit(X_train, y_train)"
      ],
      "execution_count": 19,
      "outputs": [
        {
          "output_type": "stream",
          "name": "stderr",
          "text": [
            "/usr/local/lib/python3.7/dist-packages/sklearn/utils/validation.py:1692: FutureWarning: Feature names only support names that are all strings. Got feature names with dtypes: ['int', 'str']. An error will be raised in 1.2.\n",
            "  FutureWarning,\n"
          ]
        },
        {
          "output_type": "stream",
          "name": "stdout",
          "text": [
            "Iteration 1, loss = 0.14316356\n",
            "Iteration 2, loss = 0.13442065\n",
            "Iteration 3, loss = 0.12083957\n",
            "Iteration 4, loss = 0.10457175\n",
            "Iteration 5, loss = 0.09757936\n",
            "Iteration 6, loss = 0.09254164\n",
            "Iteration 7, loss = 0.09680074\n",
            "Iteration 8, loss = 0.09072188\n",
            "Iteration 9, loss = 0.09355532\n",
            "Iteration 10, loss = 0.08921659\n",
            "Iteration 11, loss = 0.09713032\n",
            "Iteration 12, loss = 0.10383250\n",
            "Iteration 13, loss = 0.09072009\n",
            "Iteration 14, loss = 0.08819589\n",
            "Iteration 15, loss = 0.08992599\n",
            "Iteration 16, loss = 0.09326473\n",
            "Iteration 17, loss = 0.09297861\n",
            "Iteration 18, loss = 0.09233691\n",
            "Iteration 19, loss = 0.09181747\n",
            "Iteration 20, loss = 0.09161751\n",
            "Iteration 21, loss = 0.09140730\n",
            "Iteration 22, loss = 0.09056003\n",
            "Iteration 23, loss = 0.09189046\n",
            "Iteration 24, loss = 0.10393860\n",
            "Iteration 25, loss = 0.09890690\n",
            "Training loss did not improve more than tol=0.000100 for 10 consecutive epochs. Stopping.\n"
          ]
        },
        {
          "output_type": "execute_result",
          "data": {
            "text/plain": [
              "MLPClassifier(activation='logistic', batch_size=64,\n",
              "              hidden_layer_sizes=(50, 50, 50), max_iter=1000, random_state=1,\n",
              "              solver='sgd', verbose=10)"
            ]
          },
          "metadata": {},
          "execution_count": 19
        }
      ]
    },
    {
      "cell_type": "code",
      "metadata": {
        "id": "cD9r3PRlZ1-K",
        "colab": {
          "base_uri": "https://localhost:8080/"
        },
        "outputId": "2905938a-6bdb-4a55-dbeb-6e8bd6b243d6"
      },
      "source": [
        "#Se calcula la probabilidad predicha de la muestra para cada clase en el modelo\n",
        "MLP_2.predict_proba(X_train)"
      ],
      "execution_count": 20,
      "outputs": [
        {
          "output_type": "stream",
          "name": "stderr",
          "text": [
            "/usr/local/lib/python3.7/dist-packages/sklearn/utils/validation.py:1692: FutureWarning: Feature names only support names that are all strings. Got feature names with dtypes: ['int', 'str']. An error will be raised in 1.2.\n",
            "  FutureWarning,\n"
          ]
        },
        {
          "output_type": "execute_result",
          "data": {
            "text/plain": [
              "array([[2.24637998e-03, 4.37535331e-04, 1.30210442e-03, 9.91282582e-01,\n",
              "        4.73139853e-03],\n",
              "       [2.24637998e-03, 4.37535331e-04, 1.30210442e-03, 9.91282582e-01,\n",
              "        4.73139853e-03],\n",
              "       [2.24637998e-03, 4.37535331e-04, 1.30210442e-03, 9.91282582e-01,\n",
              "        4.73139853e-03],\n",
              "       ...,\n",
              "       [2.24637998e-03, 4.37535331e-04, 1.30210442e-03, 9.91282582e-01,\n",
              "        4.73139853e-03],\n",
              "       [2.24637998e-03, 4.37535331e-04, 1.30210442e-03, 9.91282582e-01,\n",
              "        4.73139853e-03],\n",
              "       [2.24637998e-03, 4.37535331e-04, 1.30210442e-03, 9.91282582e-01,\n",
              "        4.73139853e-03]])"
            ]
          },
          "metadata": {},
          "execution_count": 20
        }
      ]
    },
    {
      "cell_type": "code",
      "metadata": {
        "id": "v4xX9ND6SnqU",
        "colab": {
          "base_uri": "https://localhost:8080/"
        },
        "outputId": "fc13c503-20e2-487a-ce01-bb215e3728a1"
      },
      "source": [
        "#Se pone a prueba la RN con los datos de prueba, se realiza predicción\n",
        "y_pred = MLP_2.predict(X_set)"
      ],
      "execution_count": 21,
      "outputs": [
        {
          "output_type": "stream",
          "name": "stderr",
          "text": [
            "/usr/local/lib/python3.7/dist-packages/sklearn/utils/validation.py:1692: FutureWarning: Feature names only support names that are all strings. Got feature names with dtypes: ['int', 'str']. An error will be raised in 1.2.\n",
            "  FutureWarning,\n"
          ]
        }
      ]
    },
    {
      "cell_type": "code",
      "metadata": {
        "id": "NxbUnRJNsMJv",
        "colab": {
          "base_uri": "https://localhost:8080/"
        },
        "outputId": "a6a6a235-3d78-4a63-bc64-bc942e064ef7"
      },
      "source": [
        "#Metrica de Score\n",
        "#Evaluamos el entrenamiento\n",
        "print(\"Puntuación del conjunto de entrenamiento: %f\" % (MLP_2.score(X_train, y_train)*100),\"%\")\n",
        "\n",
        "#Evaluamos la predicción\n",
        "print(\"Puntuación del conjunto de prueba: %f\" % (MLP_2.score(X_set, y_test)*100),\"%\")"
      ],
      "execution_count": 22,
      "outputs": [
        {
          "output_type": "stream",
          "name": "stderr",
          "text": [
            "/usr/local/lib/python3.7/dist-packages/sklearn/utils/validation.py:1692: FutureWarning: Feature names only support names that are all strings. Got feature names with dtypes: ['int', 'str']. An error will be raised in 1.2.\n",
            "  FutureWarning,\n"
          ]
        },
        {
          "output_type": "stream",
          "name": "stdout",
          "text": [
            "Puntuación del conjunto de entrenamiento: 98.118397 %\n"
          ]
        },
        {
          "output_type": "stream",
          "name": "stderr",
          "text": [
            "/usr/local/lib/python3.7/dist-packages/sklearn/utils/validation.py:1692: FutureWarning: Feature names only support names that are all strings. Got feature names with dtypes: ['int', 'str']. An error will be raised in 1.2.\n",
            "  FutureWarning,\n"
          ]
        },
        {
          "output_type": "stream",
          "name": "stdout",
          "text": [
            "Puntuación del conjunto de prueba: 98.104554 %\n"
          ]
        }
      ]
    },
    {
      "cell_type": "code",
      "metadata": {
        "id": "bEMUVidUw5XH",
        "colab": {
          "base_uri": "https://localhost:8080/"
        },
        "outputId": "12363404-4d22-4ee4-a977-c6de11ec6c05"
      },
      "source": [
        "#Comparación entre los datos actuales y las predicciones\n",
        "asc = accuracy_score(y_test, y_pred)\n",
        "print(\"Coincidencia entre datos actuales y la predicción es de \",(asc*100),\"%\")"
      ],
      "execution_count": 23,
      "outputs": [
        {
          "output_type": "stream",
          "name": "stdout",
          "text": [
            "Coincidencia entre datos actuales y la predicción es de  98.1045535350115 %\n"
          ]
        }
      ]
    },
    {
      "cell_type": "code",
      "metadata": {
        "id": "uWtBSomddfYS",
        "colab": {
          "base_uri": "https://localhost:8080/"
        },
        "outputId": "dfb4a820-240b-4fdb-d9ed-faa2d0ac1167"
      },
      "source": [
        "#Obtener reporte en general del modelo\n",
        "print(classification_report(y_test,y_pred))"
      ],
      "execution_count": 24,
      "outputs": [
        {
          "output_type": "stream",
          "name": "stdout",
          "text": [
            "              precision    recall  f1-score   support\n",
            "\n",
            "           0       0.00      0.00      0.00       920\n",
            "           1       0.00      0.00      0.00       237\n",
            "           2       0.58      0.81      0.68      2064\n",
            "           3       0.99      1.00      0.99    253502\n",
            "           4       0.53      0.08      0.14      3163\n",
            "\n",
            "    accuracy                           0.98    259886\n",
            "   macro avg       0.42      0.38      0.36    259886\n",
            "weighted avg       0.97      0.98      0.97    259886\n",
            "\n"
          ]
        },
        {
          "output_type": "stream",
          "name": "stderr",
          "text": [
            "/usr/local/lib/python3.7/dist-packages/sklearn/metrics/_classification.py:1318: UndefinedMetricWarning: Precision and F-score are ill-defined and being set to 0.0 in labels with no predicted samples. Use `zero_division` parameter to control this behavior.\n",
            "  _warn_prf(average, modifier, msg_start, len(result))\n",
            "/usr/local/lib/python3.7/dist-packages/sklearn/metrics/_classification.py:1318: UndefinedMetricWarning: Precision and F-score are ill-defined and being set to 0.0 in labels with no predicted samples. Use `zero_division` parameter to control this behavior.\n",
            "  _warn_prf(average, modifier, msg_start, len(result))\n",
            "/usr/local/lib/python3.7/dist-packages/sklearn/metrics/_classification.py:1318: UndefinedMetricWarning: Precision and F-score are ill-defined and being set to 0.0 in labels with no predicted samples. Use `zero_division` parameter to control this behavior.\n",
            "  _warn_prf(average, modifier, msg_start, len(result))\n"
          ]
        }
      ]
    },
    {
      "cell_type": "code",
      "metadata": {
        "id": "cXroAEtDSxpP",
        "colab": {
          "base_uri": "https://localhost:8080/"
        },
        "outputId": "ab580483-8706-4838-e81d-51b357a596a2"
      },
      "source": [
        "#Se extraen los ecoeficientes (Un par para cada dato de entrada)\n",
        "#coefs_ es una lista de matrices de peso, donde la matriz de peso en el índice i representa los pesos \n",
        "#entre la capa i y la capa i + 1.\n",
        "coef = MLP_2.coefs_\n",
        "print(len(coef))\n",
        "\n",
        "#Se extraen los interceptos (Capas ocultas y salidas)\n",
        "#intercepts_ es una lista de vectores de sesgo, donde el vector en el índice i representa \n",
        "#los valores de sesgo agregados a la capa i + 1.\n",
        "inter = MLP_2.intercepts_"
      ],
      "execution_count": 25,
      "outputs": [
        {
          "output_type": "stream",
          "name": "stdout",
          "text": [
            "4\n"
          ]
        }
      ]
    }
  ]
}